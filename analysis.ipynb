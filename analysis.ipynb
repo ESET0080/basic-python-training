{
 "cells": [
  {
   "cell_type": "markdown",
   "id": "30ec869d",
   "metadata": {},
   "source": [
    "# here i m  importing libraries"
   ]
  },
  {
   "cell_type": "code",
   "execution_count": null,
   "id": "e39b0f5d",
   "metadata": {},
   "outputs": [],
   "source": [
    "import numpy as np"
   ]
  }
 ],
 "metadata": {
  "kernelspec": {
   "display_name": "my_env",
   "language": "python",
   "name": "python3"
  },
  "language_info": {
   "codemirror_mode": {
    "name": "ipython",
    "version": 3
   },
   "file_extension": ".py",
   "mimetype": "text/x-python",
   "name": "python",
   "nbconvert_exporter": "python",
   "pygments_lexer": "ipython3",
   "version": "3.13.7"
  }
 },
 "nbformat": 4,
 "nbformat_minor": 5
}
